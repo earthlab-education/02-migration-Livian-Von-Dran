{
  "cells": [
    {
      "cell_type": "markdown",
      "id": "499716e2-65b1-4c8e-a525-28c1ee8adddf",
      "metadata": {},
      "source": [
        "# Migration Data Download\n",
        "\n",
        "Get occurrence data from the Global Biodiversity Information Facility\n",
        "(GBIF)\n",
        "\n",
        "<link rel=\"stylesheet\" type=\"text/css\" href=\"./assets/styles.css\"><div class=\"callout callout-style-default callout-titled callout-task\"><div class=\"callout-header\"><div class=\"callout-icon-container\"><i class=\"callout-icon\"></i></div><div class=\"callout-title-container flex-fill\">Try It: Import packages</div></div><div class=\"callout-body-container callout-body\"><p>In the imports cell, we’ve included some packages that you will need.\n",
        "Add imports for packages that will help you:</p>\n",
        "<ol type=\"1\">\n",
        "<li>Work with reproducible file paths</li>\n",
        "<li>Work with tabular data</li>\n",
        "</ol></div></div>"
      ]
    },
    {
      "cell_type": "code",
      "execution_count": 2,
      "id": "8710bf77",
      "metadata": {
        "template": "student"
      },
      "outputs": [
        {
          "name": "stderr",
          "output_type": "stream",
          "text": [
            "INFO:NumExpr defaulting to 16 threads.\n"
          ]
        }
      ],
      "source": [
        "# Import the below libraries\n",
        "import time\n",
        "import zipfile\n",
        "from getpass import getpass\n",
        "from glob import glob\n",
        "\n",
        "import pygbif.occurrences as occ\n",
        "import pygbif.species as species\n",
        "import requests\n",
        "\n",
        "# Import the following libraries to work with reproducible file paths\n",
        "import os\n",
        "import pathlib\n",
        "\n",
        "# Import the following libraries to work with tabular data\n",
        "import pygbif.occurrences as occ\n",
        "import pandas as pd\n",
        "import pygbif.species as species\n",
        "\n",
        "# Import the earthpy library to manage the data\n",
        "import earthpy"
      ]
    },
    {
      "cell_type": "markdown",
      "id": "a5a7d036-2a16-4cad-a33b-6f440f336402",
      "metadata": {},
      "source": [
        "For this challenge, you will need to download some data to the computer\n",
        "you’re working on. We suggest using the `earthpy` library we develop to\n",
        "manage your downloads, since it encapsulates many best practices as far\n",
        "as:\n",
        "\n",
        "1.  Where to store your data\n",
        "2.  Dealing with archived data like .zip files\n",
        "3.  Avoiding version control problems\n",
        "4.  Making sure your code works cross-platform\n",
        "5.  Avoiding duplicate downloads\n",
        "\n",
        "If you’re working on one of our assignments through GitHub Classroom, it\n",
        "also lets us build in some handy defaults so that you can see your data\n",
        "files while you work.\n",
        "\n",
        "<link rel=\"stylesheet\" type=\"text/css\" href=\"./assets/styles.css\"><div class=\"callout callout-style-default callout-titled callout-task\"><div class=\"callout-header\"><div class=\"callout-icon-container\"><i class=\"callout-icon\"></i></div><div class=\"callout-title-container flex-fill\">Try It: Create a project folder</div></div><div class=\"callout-body-container callout-body\"><p>The code below will help you get started with making a project\n",
        "directory</p>\n",
        "<ol type=\"1\">\n",
        "<li>Replace <code>'your-project-directory-name-here'</code> with a\n",
        "<strong>descriptive</strong> name</li>\n",
        "<li>Run the cell</li>\n",
        "<li>The code should have printed out the path to your data files. Check\n",
        "that your data directory exists and has data in it using the terminal or\n",
        "your Finder/File Explorer.</li>\n",
        "</ol></div></div>\n",
        "\n",
        "> **File structure**\n",
        ">\n",
        "> These days, a lot of people find your file by searching for them or\n",
        "> selecting from a `Bookmarks` or `Recents` list. Even if you don’t use\n",
        "> it, your computer also keeps files in a **tree** structure of folders.\n",
        "> Put another way, you can organize and find files by travelling along a\n",
        "> unique **path**, e.g. `My Drive` \\> `Documents` \\>\n",
        "> `My awesome project` \\> `A project file` where each subsequent folder\n",
        "> is **inside** the previous one. This is convenient because all the\n",
        "> files for a project can be in the same place, and both people and\n",
        "> computers can rapidly locate files they want, provided they remember\n",
        "> the path.\n",
        ">\n",
        "> You may notice that when Python prints out a file path like this, the\n",
        "> folder names are **separated** by a `/` or `\\` (depending on your\n",
        "> operating system). This character is called the **file separator**,\n",
        "> and it tells you that the next piece of the path is **inside** the\n",
        "> previous one."
      ]
    },
    {
      "cell_type": "code",
      "execution_count": 3,
      "id": "350445b5",
      "metadata": {
        "template": "student"
      },
      "outputs": [],
      "source": [
        "# Create the migration data directory in the home folder\n",
        "miller_moth_dir = os.path.join(\n",
        "    # The home directory is the earth analytics data directory\n",
        "    pathlib.Path.home(),\n",
        "    'earth-analytics',\n",
        "    'data',\n",
        "    'miller-moth-directory'\n",
        ")\n",
        "\n",
        "os.makedirs(miller_moth_dir, exist_ok=True)\n",
        "\n",
        "# Define the GBIF data directory\n",
        "gbif_miller_dir = os.path.join(miller_moth_dir)"
      ]
    },
    {
      "cell_type": "markdown",
      "id": "fcacff13-2eda-4474-ae4d-8985a615a148",
      "metadata": {},
      "source": [
        "### STEP 1: Register and log in to GBIF\n",
        "\n",
        "You will need a [GBIF account](https://www.gbif.org/) to complete this\n",
        "challenge. You can use your GitHub account to authenticate with GBIF.\n",
        "Then, run the following code to enter your credentials for the rest of\n",
        "your session.\n",
        "\n",
        "<link rel=\"stylesheet\" type=\"text/css\" href=\"./assets/styles.css\"><div class=\"callout callout-style-default callout-error\"><div class=\"callout-header\"><div class=\"callout-icon-container\"><i class=\"callout-icon\"></i></div></div><div class=\"callout-body-container callout-body\"><p>This code is <strong>interactive</strong>, meaning that it will\n",
        "<strong>ask you for a response</strong>! The prompt can sometimes be\n",
        "hard to see if you are using VSCode – it appears at the\n",
        "<strong>top</strong> of your editor window.</p></div></div>\n",
        "\n",
        "> **Tip**\n",
        ">\n",
        "> If you need to save credentials across multiple sessions, you can\n",
        "> consider loading them in from a file like a `.env`…but make sure to\n",
        "> add it to .gitignore so you don’t commit your credentials to your\n",
        "> repository!\n",
        "\n",
        "> **Warning**\n",
        ">\n",
        "> Your email address **must** match the email you used to sign up for\n",
        "> GBIF!\n",
        "\n",
        "> **Tip**\n",
        ">\n",
        "> If you accidentally enter your credentials wrong, you can set\n",
        "> `reset=True` instead of `reset=False`."
      ]
    },
    {
      "cell_type": "code",
      "execution_count": 4,
      "id": "fe449f8a",
      "metadata": {},
      "outputs": [],
      "source": [
        "####--------------------------####\n",
        "#### DO NOT MODIFY THIS CODE! ####\n",
        "####--------------------------####\n",
        "# This code ASKS for your credentials \n",
        "# and saves it for the rest of the session.\n",
        "# NEVER put your credentials into your code!!!!\n",
        "\n",
        "# GBIF needs a username, password, and email \n",
        "# All 3 need to match the account\n",
        "reset = False\n",
        "\n",
        "# Request and store username\n",
        "if (not ('GBIF_USER'  in os.environ)) or reset:\n",
        "    os.environ['GBIF_USER'] = input('GBIF username:')\n",
        "\n",
        "# Securely request and store password\n",
        "if (not ('GBIF_PWD'  in os.environ)) or reset:\n",
        "    os.environ['GBIF_PWD'] = getpass('GBIF password:')\n",
        "    \n",
        "# Request and store account email address\n",
        "if (not ('GBIF_EMAIL'  in os.environ)) or reset:\n",
        "    os.environ['GBIF_EMAIL'] = input('GBIF email:')"
      ]
    },
    {
      "cell_type": "markdown",
      "id": "3586b2e0-3968-44a4-bb25-22d516ddd5d1",
      "metadata": {},
      "source": [
        "### STEP 2: Get the taxon key from GBIF\n",
        "\n",
        "One of the tricky parts about getting occurrence data from GBIF is that\n",
        "species often have multiple names in different contexts. Luckily, GBIF\n",
        "also provides a Name Backbone service that will translate scientific and\n",
        "colloquial names into unique identifiers. GBIF calls these identifiers\n",
        "**taxon keys**.\n",
        "\n",
        "<link rel=\"stylesheet\" type=\"text/css\" href=\"./assets/styles.css\"><div class=\"callout callout-style-default callout-titled callout-task\"><div class=\"callout-header\"><div class=\"callout-icon-container\"><i class=\"callout-icon\"></i></div><div class=\"callout-title-container flex-fill\">Try It</div></div><div class=\"callout-body-container callout-body\"><ol type=\"1\">\n",
        "<li>Put the species name, <code>{python}  scientific_name</code>, into\n",
        "the correct location in the code below.</li>\n",
        "<li>Examine the object you get back from the species query. What part of\n",
        "it do you think might be the taxon key?</li>\n",
        "<li>Extract and save the taxon key</li>\n",
        "</ol></div></div>"
      ]
    },
    {
      "cell_type": "code",
      "execution_count": null,
      "id": "98b3a3ae",
      "metadata": {},
      "outputs": [
        {
          "data": {
            "text/plain": [
              "('Euxoa auxiliaris', 4301148)"
            ]
          },
          "execution_count": 10,
          "metadata": {},
          "output_type": "execute_result"
        }
      ],
      "source": [
        "# Conduct a search query for the miller moth\n",
        "species_info = species.name_lookup('Euxoa auxiliaris', rank='SPECIES')\n",
        "\n",
        "# Obtain the first result\n",
        "first_result = species_info['results'][0]\n",
        "\n",
        "# Find the species key\n",
        "species_key = first_result['nubKey']\n",
        "\n",
        "# Check the search query output\n",
        "first_result['species'], species_key"
      ]
    },
    {
      "cell_type": "markdown",
      "id": "f452db5f-305a-456d-a9e3-2b114530d129",
      "metadata": {},
      "source": [
        "### STEP 3: Download data from GBIF\n",
        "\n",
        "Downloading GBIF data is a multi-step process. However, we’ve provided\n",
        "you with a chunk of code that handles the API communications and caches\n",
        "the download. You’ll still need to customize your search.\n",
        "\n",
        "<link rel=\"stylesheet\" type=\"text/css\" href=\"./assets/styles.css\"><div class=\"callout callout-style-default callout-titled callout-task\"><div class=\"callout-header\"><div class=\"callout-icon-container\"><i class=\"callout-icon\"></i></div><div class=\"callout-title-container flex-fill\">Try It: Submit a request to GBIF</div></div><div class=\"callout-body-container callout-body\"><ol type=\"1\">\n",
        "<li><p>Replace <code>csv_file_pattern</code> with a string that will\n",
        "match <strong>any</strong> <code>.csv</code> file when used in the\n",
        "<code>.rglob()</code> method. HINT: the character <code>*</code>\n",
        "represents any number of any values except the file separator\n",
        "(e.g. <code>/</code> on UNIX systems)</p></li>\n",
        "<li><p>Add parameters to the GBIF download function,\n",
        "<code>occ.download()</code> to limit your query to:</p>\n",
        "<ul>\n",
        "<li>observations of <span data-__quarto_custom=\"true\"\n",
        "data-__quarto_custom_type=\"Shortcode\"\n",
        "data-__quarto_custom_context=\"Inline\"\n",
        "data-__quarto_custom_id=\"8\"></span></li>\n",
        "<li>from <span data-__quarto_custom=\"true\"\n",
        "data-__quarto_custom_type=\"Shortcode\"\n",
        "data-__quarto_custom_context=\"Inline\"\n",
        "data-__quarto_custom_id=\"9\"></span></li>\n",
        "<li>with spatial coordinates.</li>\n",
        "</ul></li>\n",
        "<li><p>Then, run the download. <strong>This can take a few\n",
        "minutes</strong>. You can check your downloads by logging on to the <a\n",
        "href=\"https://www.gbif.org/user/download\">GBIF website</a>.</p></li>\n",
        "</ol></div></div>"
      ]
    },
    {
      "cell_type": "code",
      "execution_count": 21,
      "id": "0f432a70",
      "metadata": {
        "template": "student"
      },
      "outputs": [],
      "source": [
        "# Only download the data once\n",
        "gbif_miller_pattern = os.path.join(gbif_miller_dir)\n",
        "if not glob(gbif_miller_pattern):\n",
        "    # Only submit one request\n",
        "    if not 'GBIF_DOWNLOAD_KEY' in os.environ:\n",
        "        # Submit query to GBIF\n",
        "        gbif_query = occ.download([\n",
        "            f'speciesKey = { species_key }',\n",
        "            'hasCoordinate = True',\n",
        "            f'year = 2024',\n",
        "        ])\n",
        "        # Take the first result\n",
        "        os.environ['GBIF_DOWNLOAD_KEY'] = gbif_query[0]\n",
        "\n",
        "    # Wait for the download to build\n",
        "    dld_key = os.environ['GBIF_DOWNLOAD_KEY']\n",
        "    wait = occ.download_meta(dld_key)['status']\n",
        "    while not wait=='SUCCEEDED':\n",
        "        wait = occ.download_meta(dld_key)['status']\n",
        "        time.sleep(5)\n",
        "\n",
        "    # Download the GBIF data\n",
        "    dld_info = occ.download_get(\n",
        "        os.environ['GBIF_DOWNLOAD_KEY'], \n",
        "        path=gbif_miller_dirr)\n",
        "    dld_path = dld_info['path']\n",
        "\n",
        "    # Unzip the GBIF data\n",
        "    with zipfile.ZipFile(dld_path) as dld_zip:\n",
        "        dld_zip.extractall(path=gbif_miller_dir)\n",
        "        \n",
        "    # Clean up the GBIF .zip file\n",
        "    os.remove(dld_path)\n",
        "\n",
        "# Find the extracted .csv file path for the first result\n",
        "gbif_miller_path = glob(gbif_miller_pattern)"
      ]
    },
    {
      "cell_type": "code",
      "execution_count": 18,
      "id": "88c96beb",
      "metadata": {},
      "outputs": [
        {
          "ename": "NameError",
          "evalue": "name 'gbif_query' is not defined",
          "output_type": "error",
          "traceback": [
            "\u001b[31m---------------------------------------------------------------------------\u001b[39m",
            "\u001b[31mNameError\u001b[39m                                 Traceback (most recent call last)",
            "\u001b[36mCell\u001b[39m\u001b[36m \u001b[39m\u001b[32mIn[18]\u001b[39m\u001b[32m, line 1\u001b[39m\n\u001b[32m----> \u001b[39m\u001b[32m1\u001b[39m \u001b[43mgbif_query\u001b[49m\n",
            "\u001b[31mNameError\u001b[39m: name 'gbif_query' is not defined"
          ]
        }
      ],
      "source": [
        "gbif_query"
      ]
    },
    {
      "cell_type": "markdown",
      "id": "52cb7205-ef67-48e0-a318-7fba28465682",
      "metadata": {},
      "source": [
        "You might notice that the GBIF data filename isn’t very\n",
        "**descriptive**…at this point, you may want to clean up your data\n",
        "directory so that you know what the file is later on!\n",
        "\n",
        "<link rel=\"stylesheet\" type=\"text/css\" href=\"./assets/styles.css\"><div class=\"callout callout-style-default callout-titled callout-task\"><div class=\"callout-header\"><div class=\"callout-icon-container\"><i class=\"callout-icon\"></i></div><div class=\"callout-title-container flex-fill\">Try It</div></div><div class=\"callout-body-container callout-body\"><ol type=\"1\">\n",
        "<li>Replace ‘your-gbif-filename’ with a <strong>descriptive</strong>\n",
        "name.</li>\n",
        "<li>Run the cell</li>\n",
        "<li>Check your data folder. Is it organized the way you want?</li>\n",
        "</ol></div></div>"
      ]
    },
    {
      "cell_type": "code",
      "execution_count": 20,
      "id": "a0128eb9",
      "metadata": {},
      "outputs": [],
      "source": [
        "gbif_miller_path = os.path.join(gbif_miller_dir, 'gbif-miller-data')"
      ]
    },
    {
      "cell_type": "code",
      "execution_count": 19,
      "id": "f3d48139",
      "metadata": {
        "template": "student"
      },
      "outputs": [
        {
          "ename": "TypeError",
          "evalue": "unsupported operand type(s) for /: 'str' and 'str'",
          "output_type": "error",
          "traceback": [
            "\u001b[31m---------------------------------------------------------------------------\u001b[39m",
            "\u001b[31mTypeError\u001b[39m                                 Traceback (most recent call last)",
            "\u001b[36mCell\u001b[39m\u001b[36m \u001b[39m\u001b[32mIn[19]\u001b[39m\u001b[32m, line 2\u001b[39m\n\u001b[32m      1\u001b[39m \u001b[38;5;66;03m# Give the download a descriptive name\u001b[39;00m\n\u001b[32m----> \u001b[39m\u001b[32m2\u001b[39m gbif_miller_path = \u001b[43mgbif_miller_dir\u001b[49m\u001b[43m \u001b[49m\u001b[43m/\u001b[49m\u001b[43m \u001b[49m\u001b[33;43m'\u001b[39;49m\u001b[33;43mgbif-miller-data\u001b[39;49m\u001b[33;43m'\u001b[39;49m\n\u001b[32m      4\u001b[39m \u001b[38;5;66;03m# Move file to descriptive path\u001b[39;00m\n\u001b[32m      5\u001b[39m shutil.move(gbif_miller_dir, gbif_path)\n",
            "\u001b[31mTypeError\u001b[39m: unsupported operand type(s) for /: 'str' and 'str'"
          ]
        }
      ],
      "source": [
        "# Give the download a descriptive name\n",
        "gbif_miller_path = gbif_miller_dir / 'gbif-miller-data'\n",
        "\n",
        "# Move file to descriptive path\n",
        "shutil.move(gbif_miller_dir, gbif_path)"
      ]
    },
    {
      "cell_type": "markdown",
      "id": "47037264-65fc-4fb3-b43a-c53bcd4ba968",
      "metadata": {},
      "source": [
        "### STEP 4: Load the GBIF data into Python\n",
        "\n",
        "<link rel=\"stylesheet\" type=\"text/css\" href=\"./assets/styles.css\"><div class=\"callout callout-style-default callout-titled callout-task\"><div class=\"callout-header\"><div class=\"callout-icon-container\"><i class=\"callout-icon\"></i></div><div class=\"callout-title-container flex-fill\">Try It: Load GBIF data</div></div><div class=\"callout-body-container callout-body\"><p>Just like you did when wrangling your data from the data subset,\n",
        "you’ll need to load your GBIF data and convert it to a GeoDataFrame.</p></div></div>"
      ]
    },
    {
      "cell_type": "code",
      "execution_count": 13,
      "id": "5f9e629b",
      "metadata": {
        "template": "student"
      },
      "outputs": [],
      "source": [
        "# Load the GBIF data\n",
        "\n",
        "# Convert to GeoDataFrame\n",
        "\n",
        "# Check results\n",
        "gbif_gdf.total_bounds"
      ]
    },
    {
      "cell_type": "markdown",
      "id": "91c8f771-29c1-4deb-acd2-ce0cba5800c5",
      "metadata": {},
      "source": [
        "# STEP -1: Wrap up\n",
        "\n",
        "Don’t forget to store your variables so you can use them in other\n",
        "notebooks! Replace `var1` and `var2` with the variable you want to save,\n",
        "separated by spaces."
      ]
    },
    {
      "cell_type": "code",
      "execution_count": 15,
      "id": "b4ed5221",
      "metadata": {},
      "outputs": [],
      "source": [
        "%store var1 var2"
      ]
    },
    {
      "cell_type": "markdown",
      "id": "483de54c-9287-4ec3-ba27-26382dae3c62",
      "metadata": {},
      "source": [
        "Finally, be sure to `Restart` and `Run all` to make sure your notebook\n",
        "works all the way through!"
      ]
    }
  ],
  "metadata": {
    "kernelspec": {
      "display_name": "base",
      "language": "python",
      "name": "python3"
    },
    "language_info": {
      "codemirror_mode": {
        "name": "ipython",
        "version": 3
      },
      "file_extension": ".py",
      "mimetype": "text/x-python",
      "name": "python",
      "nbconvert_exporter": "python",
      "pygments_lexer": "ipython3",
      "version": "3.13.5"
    }
  },
  "nbformat": 4,
  "nbformat_minor": 5
}
